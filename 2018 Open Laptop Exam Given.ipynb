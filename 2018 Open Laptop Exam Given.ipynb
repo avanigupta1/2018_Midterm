{
 "cells": [
  {
   "cell_type": "markdown",
   "metadata": {},
   "source": [
    "# 2018 Midterm"
   ]
  },
  {
   "cell_type": "markdown",
   "metadata": {},
   "source": [
    "## Question 1\n",
    "15 POINTS.\n",
    "**Use cell magic to complete the following:**\n",
    "\n",
    "You were just hired as junior data scientist at `debunnk` a new company who promises to verfiy the authenticity of files on any given system. Your first job is to write a `bash shell **function**` that takes two arguments. The first is a directory where you will search and generate a unique hash identifier for any files (not directories) in that directory. If you come across any additional subdirectories within the first directory provided, simply state the name of the directory. The second argument to the function is where you will store all results. "
   ]
  },
  {
   "cell_type": "code",
   "execution_count": null,
   "metadata": {},
   "outputs": [],
   "source": []
  },
  {
   "cell_type": "markdown",
   "metadata": {},
   "source": [
    "## Question 2\n",
    "5 POINTS\n",
    "Explain how you would convert the `bash shell **function**` into a `bash shell **script**`. Please include any file modifications that may be needed to allow someone to run the script in any way imaginable."
   ]
  },
  {
   "cell_type": "code",
   "execution_count": null,
   "metadata": {},
   "outputs": [],
   "source": []
  },
  {
   "cell_type": "markdown",
   "metadata": {},
   "source": [
    "## Question 3\n",
    "15 POINTS. **Use python to answer the following question:**"
   ]
  },
  {
   "cell_type": "markdown",
   "metadata": {},
   "source": [
    "Print each number from 27 to 103 inclusive on a new line.   \n",
    "For each multiple of 7, print \"Pop\" instead of the number.   \n",
    "For each multiple of 8, print \"Rocks\" instead of the number.   \n",
    "For numbers which are multiples of both 7 and 8, print \"PopRocks\" instead of the number."
   ]
  },
  {
   "cell_type": "code",
   "execution_count": null,
   "metadata": {},
   "outputs": [],
   "source": []
  },
  {
   "cell_type": "markdown",
   "metadata": {},
   "source": [
    "## Question 4\n",
    "15 POINTS. **Use python to answer the following question**:  \n",
    "Consider the following sequence formula:\n",
    "\n",
    "$c(n) = -6 + 5(n-1)$\n",
    "\n",
    "Use `map` and an `anonymous` function to capture the first 9 terms in a sequence. Print the sequence to display."
   ]
  },
  {
   "cell_type": "code",
   "execution_count": null,
   "metadata": {},
   "outputs": [],
   "source": []
  },
  {
   "cell_type": "markdown",
   "metadata": {},
   "source": [
    "## Question 5\n",
    "15 POINTS. **Use python to answer the following question:**  \n",
    "PEP 3000 is a request to add the built-in function `multiply`. Within the PEP, the specification states that the function should have a docstring that explains to users exactly the types of inputs allowed and types returned. Multiply is a function that will accept a variable number of numeric inputs and will return the product of any and all inputs. Anything that is not of a numeric type should stop execution of all code immediately, so that anything called after multiply will not run."
   ]
  },
  {
   "cell_type": "code",
   "execution_count": null,
   "metadata": {},
   "outputs": [],
   "source": []
  }
 ],
 "metadata": {
  "kernelspec": {
   "display_name": "Python 3",
   "language": "python",
   "name": "python3"
  },
  "language_info": {
   "codemirror_mode": {
    "name": "ipython",
    "version": 3
   },
   "file_extension": ".py",
   "mimetype": "text/x-python",
   "name": "python",
   "nbconvert_exporter": "python",
   "pygments_lexer": "ipython3",
   "version": "3.5.5"
  }
 },
 "nbformat": 4,
 "nbformat_minor": 2
}
